{
 "cells": [
  {
   "cell_type": "markdown",
   "metadata": {},
   "source": [
    "# Data Cleaning and Data Preprocessing"
   ]
  },
  {
   "cell_type": "markdown",
   "metadata": {},
   "source": [
    "Import data and compile information from database of all commercial and mixed use parcels (LU: C and RC)."
   ]
  },
  {
   "cell_type": "code",
   "execution_count": 6,
   "metadata": {},
   "outputs": [],
   "source": [
    "import numpy as np\n",
    "import pandas as pd\n",
    "\n",
    "df = pd.read_csv('fy19fullpropassess.csv')\n",
    "C_or_LC = df.loc[(df['LU']=='C') | (df['LU'] == 'RC')]"
   ]
  },
  {
   "cell_type": "markdown",
   "metadata": {},
   "source": [
    "Narrow down areas into Mattapan, Roxbury, Dorchester and East Boston"
   ]
  },
  {
   "cell_type": "code",
   "execution_count": 8,
   "metadata": {},
   "outputs": [],
   "source": [
    "specific_area = C_or_LC.loc[(df['MAIL CS']=='EAST  BOSTON     MA') | (df['MAIL CS'] == 'EAST BOSTON MA') | (df['MAIL CS'] == 'E BOSTON MA') \n",
    "                       | (df['MAIL CS'] == 'WEST ROXBURY MA') | (df['MAIL CS'] == 'DORCHESTER MA') | (df['MAIL CS'] == 'MATTAPAN MA') | (df['MAIL CS'] == 'ROXBURY MA')]\n",
    "#export_csv = specific_area.to_csv(r'/Users/xiaoyansu/Documents/2019Fall/CS506/Project/Property database/data1.csv')"
   ]
  },
  {
   "cell_type": "markdown",
   "metadata": {},
   "source": [
    "Capture following data on all commercial and mixed use properties\n",
    "1. owner, owner address, street, city, state, zip\n",
    "2. Assessed building value, total value, tax\n",
    "3. Parcel land area, year built, year remodeled, gross area"
   ]
  },
  {
   "cell_type": "code",
   "execution_count": 9,
   "metadata": {},
   "outputs": [],
   "source": [
    "small_business = specific_area[['PID''OWNER','OWN_OCC','ST_NUM','ST_NAME','MAIL CS','ZIPCODE','AV_BLDG',\n",
    "                                'AV_TOTAL','GROSS_TAX','LAND_SF','YR_BUILT','YR_REMOD','GROSS_AREA']]\n",
    "export_csv2 = small_business.to_csv(r'/Users/xiaoyansu/Documents/2019Fall/CS506/Project/Property database/data2.csv')"
   ]
  },
  {
   "cell_type": "code",
   "execution_count": null,
   "metadata": {},
   "outputs": [],
   "source": [
    "small_business['combined_address'] = specific_area[['ST_NUM','ST_NAME','MAIL CS','ZIPCODE']]"
   ]
  }
 ],
 "metadata": {
  "kernelspec": {
   "display_name": "Python 3",
   "language": "python",
   "name": "python3"
  },
  "language_info": {
   "codemirror_mode": {
    "name": "ipython",
    "version": 3
   },
   "file_extension": ".py",
   "mimetype": "text/x-python",
   "name": "python",
   "nbconvert_exporter": "python",
   "pygments_lexer": "ipython3",
   "version": "3.7.3"
  }
 },
 "nbformat": 4,
 "nbformat_minor": 2
}
