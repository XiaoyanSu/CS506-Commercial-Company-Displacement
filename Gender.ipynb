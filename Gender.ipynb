{
 "cells": [
  {
   "cell_type": "markdown",
   "metadata": {},
   "source": [
    "# Reference USA Data Analysis"
   ]
  },
  {
   "cell_type": "markdown",
   "metadata": {},
   "source": [
    "Used combined closed business to analyze gender trend of closed businesses"
   ]
  },
  {
   "cell_type": "code",
   "execution_count": 14,
   "metadata": {},
   "outputs": [
    {
     "name": "stdout",
     "output_type": "stream",
     "text": [
      "(507, 4)\n",
      "0     Male\n",
      "1     Male\n",
      "5     Male\n",
      "6     Male\n",
      "8     Male\n",
      "10    Male\n",
      "11    Male\n",
      "12    Male\n",
      "13    Male\n",
      "14    Male\n",
      "Name: Executive Gender, dtype: object\n",
      "(507, 5)\n",
      "0    Male\n",
      "1    Male\n",
      "2    Male\n",
      "3    Male\n",
      "4    Male\n",
      "5    Male\n",
      "6    Male\n",
      "7    Male\n",
      "8    Male\n",
      "9    Male\n",
      "Name: Executive Gender, dtype: object\n",
      "248\n",
      "259\n",
      "248\n",
      "(248, 4)\n",
      "(259, 4)\n"
     ]
    }
   ],
   "source": [
    "import pandas as pd\n",
    "import numpy as np\n",
    "\n",
    "df2 = pd.read_csv('Combined Closed Business.csv')\n",
    "\n",
    "\"\"\"Gender Analysis\"\"\"\n",
    "\n",
    "\n",
    "closed_gender = df2[['Company Name','Executive Gender','City','Address']].dropna(axis=0,subset=['Executive Gender'])\n",
    "print(closed_gender.shape)\n",
    "print(closed_gender['Executive Gender'][:10])\n",
    "closed_gender = closed_gender.reset_index()\n",
    "print(closed_gender.shape)\n",
    "print(closed_gender['Executive Gender'][:10])\n",
    "\n",
    "Male_executive = []\n",
    "Female_executive = []\n",
    "\n",
    "\n",
    "for i in range(len(closed_gender)):\n",
    "    if closed_gender['Executive Gender'][i] == 'Male' and closed_gender['Executive Gender'][i] != 'Female':\n",
    "        Male_executive.append([(closed_gender['Company Name'][i]),(closed_gender['Executive Gender']),(closed_gender['City'][i]),(closed_gender['Address'][i])])\n",
    "    elif closed_gender['Executive Gender'][i] == 'Female' and closed_gender['Executive Gender'][i] != 'Male':\n",
    "        Female_executive.append([(closed_gender['Company Name'][i]),(closed_gender['Executive Gender']),(closed_gender['City'][i]),(closed_gender['Address'][i])])\n",
    "\n",
    "Male_executive = pd.DataFrame(Male_executive)\n",
    "print(Male_executive.shape)\n",
    "Female_executive = pd.DataFrame(Female_executive)\n",
    "print(Female_executive.shape)"
   ]
  },
  {
   "cell_type": "code",
   "execution_count": null,
   "metadata": {},
   "outputs": [],
   "source": []
  },
  {
   "cell_type": "code",
   "execution_count": null,
   "metadata": {},
   "outputs": [],
   "source": []
  }
 ],
 "metadata": {
  "kernelspec": {
   "display_name": "Python 3",
   "language": "python",
   "name": "python3"
  },
  "language_info": {
   "codemirror_mode": {
    "name": "ipython",
    "version": 3
   },
   "file_extension": ".py",
   "mimetype": "text/x-python",
   "name": "python",
   "nbconvert_exporter": "python",
   "pygments_lexer": "ipython3",
   "version": "3.7.3"
  }
 },
 "nbformat": 4,
 "nbformat_minor": 2
}
